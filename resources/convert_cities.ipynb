{
 "metadata": {
  "language_info": {
   "codemirror_mode": {
    "name": "ipython",
    "version": 3
   },
   "file_extension": ".py",
   "mimetype": "text/x-python",
   "name": "python",
   "nbconvert_exporter": "python",
   "pygments_lexer": "ipython3",
   "version": "3.8.5"
  },
  "orig_nbformat": 2,
  "kernelspec": {
   "name": "python385jvsc74a57bd061a7c723603a75b6cd1ccacb25a07b75fc9be4d41d61fd709e20fa91ecce9dac",
   "display_name": "Python 3.8.5 64-bit ('base': conda)"
  }
 },
 "nbformat": 4,
 "nbformat_minor": 2,
 "cells": [
  {
   "cell_type": "code",
   "execution_count": 6,
   "metadata": {},
   "outputs": [],
   "source": [
    "# Import dependencies\n",
    "import pandas as pd\n",
    "import time"
   ]
  },
  {
   "cell_type": "code",
   "execution_count": 4,
   "metadata": {},
   "outputs": [
    {
     "output_type": "execute_result",
     "data": {
      "text/plain": [
       "   Unnamed: 0           City      Lat       Lng  Max Temp  Humidity  \\\n",
       "0           0       Qaqortoq  60.7167  -46.0333     50.00        29   \n",
       "1           1  Half Moon Bay  37.4636 -122.4286     62.01        87   \n",
       "2           2          Hobyo   5.3505   48.5268     83.53        71   \n",
       "3           3         Atuona  -9.8000 -139.0333     80.82        76   \n",
       "4           4          Kapaa  22.0752 -159.3190     81.00        73   \n",
       "\n",
       "   Cloudiness  Wind Speed Country        Date  \n",
       "0          20       11.50      GL  1619132249  \n",
       "1          75        6.91      US  1619132459  \n",
       "2          77       11.59      SO  1619132459  \n",
       "3          49       19.53      PF  1619132460  \n",
       "4          20        9.22      US  1619132460  "
      ],
      "text/html": "<div>\n<style scoped>\n    .dataframe tbody tr th:only-of-type {\n        vertical-align: middle;\n    }\n\n    .dataframe tbody tr th {\n        vertical-align: top;\n    }\n\n    .dataframe thead th {\n        text-align: right;\n    }\n</style>\n<table border=\"1\" class=\"dataframe\">\n  <thead>\n    <tr style=\"text-align: right;\">\n      <th></th>\n      <th>Unnamed: 0</th>\n      <th>City</th>\n      <th>Lat</th>\n      <th>Lng</th>\n      <th>Max Temp</th>\n      <th>Humidity</th>\n      <th>Cloudiness</th>\n      <th>Wind Speed</th>\n      <th>Country</th>\n      <th>Date</th>\n    </tr>\n  </thead>\n  <tbody>\n    <tr>\n      <th>0</th>\n      <td>0</td>\n      <td>Qaqortoq</td>\n      <td>60.7167</td>\n      <td>-46.0333</td>\n      <td>50.00</td>\n      <td>29</td>\n      <td>20</td>\n      <td>11.50</td>\n      <td>GL</td>\n      <td>1619132249</td>\n    </tr>\n    <tr>\n      <th>1</th>\n      <td>1</td>\n      <td>Half Moon Bay</td>\n      <td>37.4636</td>\n      <td>-122.4286</td>\n      <td>62.01</td>\n      <td>87</td>\n      <td>75</td>\n      <td>6.91</td>\n      <td>US</td>\n      <td>1619132459</td>\n    </tr>\n    <tr>\n      <th>2</th>\n      <td>2</td>\n      <td>Hobyo</td>\n      <td>5.3505</td>\n      <td>48.5268</td>\n      <td>83.53</td>\n      <td>71</td>\n      <td>77</td>\n      <td>11.59</td>\n      <td>SO</td>\n      <td>1619132459</td>\n    </tr>\n    <tr>\n      <th>3</th>\n      <td>3</td>\n      <td>Atuona</td>\n      <td>-9.8000</td>\n      <td>-139.0333</td>\n      <td>80.82</td>\n      <td>76</td>\n      <td>49</td>\n      <td>19.53</td>\n      <td>PF</td>\n      <td>1619132460</td>\n    </tr>\n    <tr>\n      <th>4</th>\n      <td>4</td>\n      <td>Kapaa</td>\n      <td>22.0752</td>\n      <td>-159.3190</td>\n      <td>81.00</td>\n      <td>73</td>\n      <td>20</td>\n      <td>9.22</td>\n      <td>US</td>\n      <td>1619132460</td>\n    </tr>\n  </tbody>\n</table>\n</div>"
     },
     "metadata": {},
     "execution_count": 4
    }
   ],
   "source": [
    "# Import csv file\n",
    "import_file = 'cities.csv'\n",
    "df_wx_data = pd.read_csv(import_file)\n",
    "df_wx_data.head()"
   ]
  },
  {
   "cell_type": "code",
   "execution_count": 5,
   "metadata": {},
   "outputs": [
    {
     "output_type": "stream",
     "name": "stdout",
     "text": [
      "<class 'pandas.core.frame.DataFrame'>\nRangeIndex: 555 entries, 0 to 554\nData columns (total 10 columns):\n #   Column      Non-Null Count  Dtype  \n---  ------      --------------  -----  \n 0   Unnamed: 0  555 non-null    int64  \n 1   City        555 non-null    object \n 2   Lat         555 non-null    float64\n 3   Lng         555 non-null    float64\n 4   Max Temp    555 non-null    float64\n 5   Humidity    555 non-null    int64  \n 6   Cloudiness  555 non-null    int64  \n 7   Wind Speed  555 non-null    float64\n 8   Country     550 non-null    object \n 9   Date        555 non-null    int64  \ndtypes: float64(4), int64(4), object(2)\nmemory usage: 43.5+ KB\n"
     ]
    }
   ],
   "source": [
    "df_wx_data.info()"
   ]
  },
  {
   "cell_type": "code",
   "execution_count": 7,
   "metadata": {},
   "outputs": [
    {
     "output_type": "execute_result",
     "data": {
      "text/plain": [
       "   Unnamed: 0           City      Lat       Lng  Max Temp  Humidity  \\\n",
       "0           0       Qaqortoq  60.7167  -46.0333     50.00        29   \n",
       "1           1  Half Moon Bay  37.4636 -122.4286     62.01        87   \n",
       "2           2          Hobyo   5.3505   48.5268     83.53        71   \n",
       "3           3         Atuona  -9.8000 -139.0333     80.82        76   \n",
       "4           4          Kapaa  22.0752 -159.3190     81.00        73   \n",
       "\n",
       "   Cloudiness  Wind Speed Country       Date  \n",
       "0          20       11.50      GL  4/22/2021  \n",
       "1          75        6.91      US  4/22/2021  \n",
       "2          77       11.59      SO  4/22/2021  \n",
       "3          49       19.53      PF  4/22/2021  \n",
       "4          20        9.22      US  4/22/2021  "
      ],
      "text/html": "<div>\n<style scoped>\n    .dataframe tbody tr th:only-of-type {\n        vertical-align: middle;\n    }\n\n    .dataframe tbody tr th {\n        vertical-align: top;\n    }\n\n    .dataframe thead th {\n        text-align: right;\n    }\n</style>\n<table border=\"1\" class=\"dataframe\">\n  <thead>\n    <tr style=\"text-align: right;\">\n      <th></th>\n      <th>Unnamed: 0</th>\n      <th>City</th>\n      <th>Lat</th>\n      <th>Lng</th>\n      <th>Max Temp</th>\n      <th>Humidity</th>\n      <th>Cloudiness</th>\n      <th>Wind Speed</th>\n      <th>Country</th>\n      <th>Date</th>\n    </tr>\n  </thead>\n  <tbody>\n    <tr>\n      <th>0</th>\n      <td>0</td>\n      <td>Qaqortoq</td>\n      <td>60.7167</td>\n      <td>-46.0333</td>\n      <td>50.00</td>\n      <td>29</td>\n      <td>20</td>\n      <td>11.50</td>\n      <td>GL</td>\n      <td>4/22/2021</td>\n    </tr>\n    <tr>\n      <th>1</th>\n      <td>1</td>\n      <td>Half Moon Bay</td>\n      <td>37.4636</td>\n      <td>-122.4286</td>\n      <td>62.01</td>\n      <td>87</td>\n      <td>75</td>\n      <td>6.91</td>\n      <td>US</td>\n      <td>4/22/2021</td>\n    </tr>\n    <tr>\n      <th>2</th>\n      <td>2</td>\n      <td>Hobyo</td>\n      <td>5.3505</td>\n      <td>48.5268</td>\n      <td>83.53</td>\n      <td>71</td>\n      <td>77</td>\n      <td>11.59</td>\n      <td>SO</td>\n      <td>4/22/2021</td>\n    </tr>\n    <tr>\n      <th>3</th>\n      <td>3</td>\n      <td>Atuona</td>\n      <td>-9.8000</td>\n      <td>-139.0333</td>\n      <td>80.82</td>\n      <td>76</td>\n      <td>49</td>\n      <td>19.53</td>\n      <td>PF</td>\n      <td>4/22/2021</td>\n    </tr>\n    <tr>\n      <th>4</th>\n      <td>4</td>\n      <td>Kapaa</td>\n      <td>22.0752</td>\n      <td>-159.3190</td>\n      <td>81.00</td>\n      <td>73</td>\n      <td>20</td>\n      <td>9.22</td>\n      <td>US</td>\n      <td>4/22/2021</td>\n    </tr>\n  </tbody>\n</table>\n</div>"
     },
     "metadata": {},
     "execution_count": 7
    }
   ],
   "source": [
    "# Clean up the collection date\n",
    "pretty_date = []\n",
    "for idx, row in df_wx_data.iterrows():\n",
    "    data_time = time.localtime(row[\"Date\"])\n",
    "    pretty_date.append(f\"{data_time.tm_mon}/{data_time.tm_mday}/{data_time.tm_year}\")\n",
    "\n",
    "df_wx_data[\"Date\"] = pretty_date\n",
    "df_wx_data.head()"
   ]
  },
  {
   "cell_type": "code",
   "execution_count": 9,
   "metadata": {},
   "outputs": [
    {
     "output_type": "execute_result",
     "data": {
      "text/plain": [
       "                  City Country      Lat       Lng  Max Temp  Humidity  \\\n",
       "City ID                                                                 \n",
       "0             Qaqortoq      GL  60.7167  -46.0333     50.00        29   \n",
       "1        Half Moon Bay      US  37.4636 -122.4286     62.01        87   \n",
       "2                Hobyo      SO   5.3505   48.5268     83.53        71   \n",
       "3               Atuona      PF  -9.8000 -139.0333     80.82        76   \n",
       "4                Kapaa      US  22.0752 -159.3190     81.00        73   \n",
       "\n",
       "         Cloudiness  Wind Speed       Date  \n",
       "City ID                                     \n",
       "0                20       11.50  4/22/2021  \n",
       "1                75        6.91  4/22/2021  \n",
       "2                77       11.59  4/22/2021  \n",
       "3                49       19.53  4/22/2021  \n",
       "4                20        9.22  4/22/2021  "
      ],
      "text/html": "<div>\n<style scoped>\n    .dataframe tbody tr th:only-of-type {\n        vertical-align: middle;\n    }\n\n    .dataframe tbody tr th {\n        vertical-align: top;\n    }\n\n    .dataframe thead th {\n        text-align: right;\n    }\n</style>\n<table border=\"1\" class=\"dataframe\">\n  <thead>\n    <tr style=\"text-align: right;\">\n      <th></th>\n      <th>City</th>\n      <th>Country</th>\n      <th>Lat</th>\n      <th>Lng</th>\n      <th>Max Temp</th>\n      <th>Humidity</th>\n      <th>Cloudiness</th>\n      <th>Wind Speed</th>\n      <th>Date</th>\n    </tr>\n    <tr>\n      <th>City ID</th>\n      <th></th>\n      <th></th>\n      <th></th>\n      <th></th>\n      <th></th>\n      <th></th>\n      <th></th>\n      <th></th>\n      <th></th>\n    </tr>\n  </thead>\n  <tbody>\n    <tr>\n      <th>0</th>\n      <td>Qaqortoq</td>\n      <td>GL</td>\n      <td>60.7167</td>\n      <td>-46.0333</td>\n      <td>50.00</td>\n      <td>29</td>\n      <td>20</td>\n      <td>11.50</td>\n      <td>4/22/2021</td>\n    </tr>\n    <tr>\n      <th>1</th>\n      <td>Half Moon Bay</td>\n      <td>US</td>\n      <td>37.4636</td>\n      <td>-122.4286</td>\n      <td>62.01</td>\n      <td>87</td>\n      <td>75</td>\n      <td>6.91</td>\n      <td>4/22/2021</td>\n    </tr>\n    <tr>\n      <th>2</th>\n      <td>Hobyo</td>\n      <td>SO</td>\n      <td>5.3505</td>\n      <td>48.5268</td>\n      <td>83.53</td>\n      <td>71</td>\n      <td>77</td>\n      <td>11.59</td>\n      <td>4/22/2021</td>\n    </tr>\n    <tr>\n      <th>3</th>\n      <td>Atuona</td>\n      <td>PF</td>\n      <td>-9.8000</td>\n      <td>-139.0333</td>\n      <td>80.82</td>\n      <td>76</td>\n      <td>49</td>\n      <td>19.53</td>\n      <td>4/22/2021</td>\n    </tr>\n    <tr>\n      <th>4</th>\n      <td>Kapaa</td>\n      <td>US</td>\n      <td>22.0752</td>\n      <td>-159.3190</td>\n      <td>81.00</td>\n      <td>73</td>\n      <td>20</td>\n      <td>9.22</td>\n      <td>4/22/2021</td>\n    </tr>\n  </tbody>\n</table>\n</div>"
     },
     "metadata": {},
     "execution_count": 9
    }
   ],
   "source": [
    "# Clean up columns for export\n",
    "df_wx_data_clean = df_wx_data[[\"City\",\"Country\",\"Lat\",\"Lng\",\"Max Temp\",\"Humidity\",\"Cloudiness\",\"Wind Speed\",\"Date\"]]\n",
    "df_wx_data_clean.index.name = \"City ID\"\n",
    "df_wx_data_clean.head()"
   ]
  },
  {
   "cell_type": "code",
   "execution_count": 12,
   "metadata": {},
   "outputs": [
    {
     "output_type": "stream",
     "name": "stdout",
     "text": [
      "<class 'pandas.core.frame.DataFrame'>\nRangeIndex: 555 entries, 0 to 554\nData columns (total 9 columns):\n #   Column      Non-Null Count  Dtype  \n---  ------      --------------  -----  \n 0   City        555 non-null    object \n 1   Country     550 non-null    object \n 2   Lat         555 non-null    float64\n 3   Lng         555 non-null    float64\n 4   Max Temp    555 non-null    float64\n 5   Humidity    555 non-null    int64  \n 6   Cloudiness  555 non-null    int64  \n 7   Wind Speed  555 non-null    float64\n 8   Date        555 non-null    object \ndtypes: float64(4), int64(2), object(3)\nmemory usage: 39.1+ KB\n"
     ]
    }
   ],
   "source": [
    "df_wx_data_clean.info()"
   ]
  },
  {
   "cell_type": "code",
   "execution_count": 15,
   "metadata": {},
   "outputs": [],
   "source": [
    "# Export to html\n",
    "cities_html = df_wx_data_clean.to_html(justify=\"left\",classes='table table-striped')\n",
    "write_file = open(\"cities.html\", \"w\", encoding=\"utf-8\")\n",
    "write_file.write(cities_html)\n",
    "write_file.close()"
   ]
  },
  {
   "cell_type": "code",
   "execution_count": null,
   "metadata": {},
   "outputs": [],
   "source": []
  }
 ]
}